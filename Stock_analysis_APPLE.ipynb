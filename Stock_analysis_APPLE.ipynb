{
  "nbformat": 4,
  "nbformat_minor": 0,
  "metadata": {
    "colab": {
      "provenance": []
    },
    "kernelspec": {
      "name": "python3",
      "display_name": "Python 3"
    },
    "language_info": {
      "name": "python"
    }
  },
  "cells": [
    {
      "cell_type": "code",
      "execution_count": 1,
      "metadata": {
        "colab": {
          "base_uri": "https://localhost:8080/"
        },
        "id": "TM_MkBMTV_91",
        "outputId": "f06403e9-822c-491f-de84-6c8e213e1654"
      },
      "outputs": [
        {
          "output_type": "stream",
          "name": "stdout",
          "text": [
            "Requirement already satisfied: yfinance in /usr/local/lib/python3.11/dist-packages (0.2.52)\n",
            "Requirement already satisfied: tensorflow in /usr/local/lib/python3.11/dist-packages (2.18.0)\n",
            "Requirement already satisfied: scikit-learn in /usr/local/lib/python3.11/dist-packages (1.6.1)\n",
            "Collecting alpaca-trade-api\n",
            "  Downloading alpaca_trade_api-3.2.0-py3-none-any.whl.metadata (29 kB)\n",
            "Requirement already satisfied: pandas>=1.3.0 in /usr/local/lib/python3.11/dist-packages (from yfinance) (2.2.2)\n",
            "Requirement already satisfied: numpy>=1.16.5 in /usr/local/lib/python3.11/dist-packages (from yfinance) (1.26.4)\n",
            "Requirement already satisfied: requests>=2.31 in /usr/local/lib/python3.11/dist-packages (from yfinance) (2.32.3)\n",
            "Requirement already satisfied: multitasking>=0.0.7 in /usr/local/lib/python3.11/dist-packages (from yfinance) (0.0.11)\n",
            "Requirement already satisfied: lxml>=4.9.1 in /usr/local/lib/python3.11/dist-packages (from yfinance) (5.3.1)\n",
            "Requirement already satisfied: platformdirs>=2.0.0 in /usr/local/lib/python3.11/dist-packages (from yfinance) (4.3.6)\n",
            "Requirement already satisfied: pytz>=2022.5 in /usr/local/lib/python3.11/dist-packages (from yfinance) (2025.1)\n",
            "Requirement already satisfied: frozendict>=2.3.4 in /usr/local/lib/python3.11/dist-packages (from yfinance) (2.4.6)\n",
            "Requirement already satisfied: peewee>=3.16.2 in /usr/local/lib/python3.11/dist-packages (from yfinance) (3.17.9)\n",
            "Requirement already satisfied: beautifulsoup4>=4.11.1 in /usr/local/lib/python3.11/dist-packages (from yfinance) (4.13.3)\n",
            "Requirement already satisfied: html5lib>=1.1 in /usr/local/lib/python3.11/dist-packages (from yfinance) (1.1)\n",
            "Requirement already satisfied: absl-py>=1.0.0 in /usr/local/lib/python3.11/dist-packages (from tensorflow) (1.4.0)\n",
            "Requirement already satisfied: astunparse>=1.6.0 in /usr/local/lib/python3.11/dist-packages (from tensorflow) (1.6.3)\n",
            "Requirement already satisfied: flatbuffers>=24.3.25 in /usr/local/lib/python3.11/dist-packages (from tensorflow) (25.2.10)\n",
            "Requirement already satisfied: gast!=0.5.0,!=0.5.1,!=0.5.2,>=0.2.1 in /usr/local/lib/python3.11/dist-packages (from tensorflow) (0.6.0)\n",
            "Requirement already satisfied: google-pasta>=0.1.1 in /usr/local/lib/python3.11/dist-packages (from tensorflow) (0.2.0)\n",
            "Requirement already satisfied: libclang>=13.0.0 in /usr/local/lib/python3.11/dist-packages (from tensorflow) (18.1.1)\n",
            "Requirement already satisfied: opt-einsum>=2.3.2 in /usr/local/lib/python3.11/dist-packages (from tensorflow) (3.4.0)\n",
            "Requirement already satisfied: packaging in /usr/local/lib/python3.11/dist-packages (from tensorflow) (24.2)\n",
            "Requirement already satisfied: protobuf!=4.21.0,!=4.21.1,!=4.21.2,!=4.21.3,!=4.21.4,!=4.21.5,<6.0.0dev,>=3.20.3 in /usr/local/lib/python3.11/dist-packages (from tensorflow) (4.25.6)\n",
            "Requirement already satisfied: setuptools in /usr/local/lib/python3.11/dist-packages (from tensorflow) (75.1.0)\n",
            "Requirement already satisfied: six>=1.12.0 in /usr/local/lib/python3.11/dist-packages (from tensorflow) (1.17.0)\n",
            "Requirement already satisfied: termcolor>=1.1.0 in /usr/local/lib/python3.11/dist-packages (from tensorflow) (2.5.0)\n",
            "Requirement already satisfied: typing-extensions>=3.6.6 in /usr/local/lib/python3.11/dist-packages (from tensorflow) (4.12.2)\n",
            "Requirement already satisfied: wrapt>=1.11.0 in /usr/local/lib/python3.11/dist-packages (from tensorflow) (1.17.2)\n",
            "Requirement already satisfied: grpcio<2.0,>=1.24.3 in /usr/local/lib/python3.11/dist-packages (from tensorflow) (1.70.0)\n",
            "Requirement already satisfied: tensorboard<2.19,>=2.18 in /usr/local/lib/python3.11/dist-packages (from tensorflow) (2.18.0)\n",
            "Requirement already satisfied: keras>=3.5.0 in /usr/local/lib/python3.11/dist-packages (from tensorflow) (3.8.0)\n",
            "Requirement already satisfied: h5py>=3.11.0 in /usr/local/lib/python3.11/dist-packages (from tensorflow) (3.12.1)\n",
            "Requirement already satisfied: ml-dtypes<0.5.0,>=0.4.0 in /usr/local/lib/python3.11/dist-packages (from tensorflow) (0.4.1)\n",
            "Requirement already satisfied: tensorflow-io-gcs-filesystem>=0.23.1 in /usr/local/lib/python3.11/dist-packages (from tensorflow) (0.37.1)\n",
            "Requirement already satisfied: scipy>=1.6.0 in /usr/local/lib/python3.11/dist-packages (from scikit-learn) (1.13.1)\n",
            "Requirement already satisfied: joblib>=1.2.0 in /usr/local/lib/python3.11/dist-packages (from scikit-learn) (1.4.2)\n",
            "Requirement already satisfied: threadpoolctl>=3.1.0 in /usr/local/lib/python3.11/dist-packages (from scikit-learn) (3.5.0)\n",
            "Collecting urllib3<2,>1.24 (from alpaca-trade-api)\n",
            "  Downloading urllib3-1.26.20-py2.py3-none-any.whl.metadata (50 kB)\n",
            "\u001b[2K     \u001b[90m━━━━━━━━━━━━━━━━━━━━━━━━━━━━━━━━━━━━━━━━\u001b[0m \u001b[32m50.1/50.1 kB\u001b[0m \u001b[31m1.7 MB/s\u001b[0m eta \u001b[36m0:00:00\u001b[0m\n",
            "\u001b[?25hRequirement already satisfied: websocket-client<2,>=0.56.0 in /usr/local/lib/python3.11/dist-packages (from alpaca-trade-api) (1.8.0)\n",
            "Collecting websockets<11,>=9.0 (from alpaca-trade-api)\n",
            "  Downloading websockets-10.4-cp311-cp311-manylinux_2_5_x86_64.manylinux1_x86_64.manylinux_2_17_x86_64.manylinux2014_x86_64.whl.metadata (6.4 kB)\n",
            "Collecting msgpack==1.0.3 (from alpaca-trade-api)\n",
            "  Downloading msgpack-1.0.3.tar.gz (123 kB)\n",
            "\u001b[2K     \u001b[90m━━━━━━━━━━━━━━━━━━━━━━━━━━━━━━━━━━━━━━━━\u001b[0m \u001b[32m123.8/123.8 kB\u001b[0m \u001b[31m4.4 MB/s\u001b[0m eta \u001b[36m0:00:00\u001b[0m\n",
            "\u001b[?25h  Preparing metadata (setup.py) ... \u001b[?25l\u001b[?25hdone\n",
            "Requirement already satisfied: aiohttp<4,>=3.8.3 in /usr/local/lib/python3.11/dist-packages (from alpaca-trade-api) (3.11.12)\n",
            "Collecting PyYAML==6.0.1 (from alpaca-trade-api)\n",
            "  Downloading PyYAML-6.0.1-cp311-cp311-manylinux_2_17_x86_64.manylinux2014_x86_64.whl.metadata (2.1 kB)\n",
            "Collecting deprecation==2.1.0 (from alpaca-trade-api)\n",
            "  Downloading deprecation-2.1.0-py2.py3-none-any.whl.metadata (4.6 kB)\n",
            "Requirement already satisfied: aiohappyeyeballs>=2.3.0 in /usr/local/lib/python3.11/dist-packages (from aiohttp<4,>=3.8.3->alpaca-trade-api) (2.4.6)\n",
            "Requirement already satisfied: aiosignal>=1.1.2 in /usr/local/lib/python3.11/dist-packages (from aiohttp<4,>=3.8.3->alpaca-trade-api) (1.3.2)\n",
            "Requirement already satisfied: attrs>=17.3.0 in /usr/local/lib/python3.11/dist-packages (from aiohttp<4,>=3.8.3->alpaca-trade-api) (25.1.0)\n",
            "Requirement already satisfied: frozenlist>=1.1.1 in /usr/local/lib/python3.11/dist-packages (from aiohttp<4,>=3.8.3->alpaca-trade-api) (1.5.0)\n",
            "Requirement already satisfied: multidict<7.0,>=4.5 in /usr/local/lib/python3.11/dist-packages (from aiohttp<4,>=3.8.3->alpaca-trade-api) (6.1.0)\n",
            "Requirement already satisfied: propcache>=0.2.0 in /usr/local/lib/python3.11/dist-packages (from aiohttp<4,>=3.8.3->alpaca-trade-api) (0.2.1)\n",
            "Requirement already satisfied: yarl<2.0,>=1.17.0 in /usr/local/lib/python3.11/dist-packages (from aiohttp<4,>=3.8.3->alpaca-trade-api) (1.18.3)\n",
            "Requirement already satisfied: wheel<1.0,>=0.23.0 in /usr/local/lib/python3.11/dist-packages (from astunparse>=1.6.0->tensorflow) (0.45.1)\n",
            "Requirement already satisfied: soupsieve>1.2 in /usr/local/lib/python3.11/dist-packages (from beautifulsoup4>=4.11.1->yfinance) (2.6)\n",
            "Requirement already satisfied: webencodings in /usr/local/lib/python3.11/dist-packages (from html5lib>=1.1->yfinance) (0.5.1)\n",
            "Requirement already satisfied: rich in /usr/local/lib/python3.11/dist-packages (from keras>=3.5.0->tensorflow) (13.9.4)\n",
            "Requirement already satisfied: namex in /usr/local/lib/python3.11/dist-packages (from keras>=3.5.0->tensorflow) (0.0.8)\n",
            "Requirement already satisfied: optree in /usr/local/lib/python3.11/dist-packages (from keras>=3.5.0->tensorflow) (0.14.0)\n",
            "Requirement already satisfied: python-dateutil>=2.8.2 in /usr/local/lib/python3.11/dist-packages (from pandas>=1.3.0->yfinance) (2.8.2)\n",
            "Requirement already satisfied: tzdata>=2022.7 in /usr/local/lib/python3.11/dist-packages (from pandas>=1.3.0->yfinance) (2025.1)\n",
            "Requirement already satisfied: charset-normalizer<4,>=2 in /usr/local/lib/python3.11/dist-packages (from requests>=2.31->yfinance) (3.4.1)\n",
            "Requirement already satisfied: idna<4,>=2.5 in /usr/local/lib/python3.11/dist-packages (from requests>=2.31->yfinance) (3.10)\n",
            "Requirement already satisfied: certifi>=2017.4.17 in /usr/local/lib/python3.11/dist-packages (from requests>=2.31->yfinance) (2025.1.31)\n",
            "Requirement already satisfied: markdown>=2.6.8 in /usr/local/lib/python3.11/dist-packages (from tensorboard<2.19,>=2.18->tensorflow) (3.7)\n",
            "Requirement already satisfied: tensorboard-data-server<0.8.0,>=0.7.0 in /usr/local/lib/python3.11/dist-packages (from tensorboard<2.19,>=2.18->tensorflow) (0.7.2)\n",
            "Requirement already satisfied: werkzeug>=1.0.1 in /usr/local/lib/python3.11/dist-packages (from tensorboard<2.19,>=2.18->tensorflow) (3.1.3)\n",
            "Requirement already satisfied: MarkupSafe>=2.1.1 in /usr/local/lib/python3.11/dist-packages (from werkzeug>=1.0.1->tensorboard<2.19,>=2.18->tensorflow) (3.0.2)\n",
            "Requirement already satisfied: markdown-it-py>=2.2.0 in /usr/local/lib/python3.11/dist-packages (from rich->keras>=3.5.0->tensorflow) (3.0.0)\n",
            "Requirement already satisfied: pygments<3.0.0,>=2.13.0 in /usr/local/lib/python3.11/dist-packages (from rich->keras>=3.5.0->tensorflow) (2.18.0)\n",
            "Requirement already satisfied: mdurl~=0.1 in /usr/local/lib/python3.11/dist-packages (from markdown-it-py>=2.2.0->rich->keras>=3.5.0->tensorflow) (0.1.2)\n",
            "Downloading alpaca_trade_api-3.2.0-py3-none-any.whl (34 kB)\n",
            "Downloading deprecation-2.1.0-py2.py3-none-any.whl (11 kB)\n",
            "Downloading PyYAML-6.0.1-cp311-cp311-manylinux_2_17_x86_64.manylinux2014_x86_64.whl (757 kB)\n",
            "\u001b[2K   \u001b[90m━━━━━━━━━━━━━━━━━━━━━━━━━━━━━━━━━━━━━━━━\u001b[0m \u001b[32m757.7/757.7 kB\u001b[0m \u001b[31m19.9 MB/s\u001b[0m eta \u001b[36m0:00:00\u001b[0m\n",
            "\u001b[?25hDownloading urllib3-1.26.20-py2.py3-none-any.whl (144 kB)\n",
            "\u001b[2K   \u001b[90m━━━━━━━━━━━━━━━━━━━━━━━━━━━━━━━━━━━━━━━━\u001b[0m \u001b[32m144.2/144.2 kB\u001b[0m \u001b[31m11.4 MB/s\u001b[0m eta \u001b[36m0:00:00\u001b[0m\n",
            "\u001b[?25hDownloading websockets-10.4-cp311-cp311-manylinux_2_5_x86_64.manylinux1_x86_64.manylinux_2_17_x86_64.manylinux2014_x86_64.whl (107 kB)\n",
            "\u001b[2K   \u001b[90m━━━━━━━━━━━━━━━━━━━━━━━━━━━━━━━━━━━━━━━━\u001b[0m \u001b[32m107.4/107.4 kB\u001b[0m \u001b[31m8.3 MB/s\u001b[0m eta \u001b[36m0:00:00\u001b[0m\n",
            "\u001b[?25hBuilding wheels for collected packages: msgpack\n",
            "  Building wheel for msgpack (setup.py) ... \u001b[?25l\u001b[?25hdone\n",
            "  Created wheel for msgpack: filename=msgpack-1.0.3-cp311-cp311-linux_x86_64.whl size=15688 sha256=f6e849f6bef9be935ccf3354cd436272c004697e7da6ecdae93f5b2c1f436f4a\n",
            "  Stored in directory: /root/.cache/pip/wheels/f6/35/da/ed9b26b510235e00e3a3c3bab7bad97b59214729662255ab3d\n",
            "Successfully built msgpack\n",
            "Installing collected packages: msgpack, websockets, urllib3, PyYAML, deprecation, alpaca-trade-api\n",
            "  Attempting uninstall: msgpack\n",
            "    Found existing installation: msgpack 1.1.0\n",
            "    Uninstalling msgpack-1.1.0:\n",
            "      Successfully uninstalled msgpack-1.1.0\n",
            "  Attempting uninstall: websockets\n",
            "    Found existing installation: websockets 14.2\n",
            "    Uninstalling websockets-14.2:\n",
            "      Successfully uninstalled websockets-14.2\n",
            "  Attempting uninstall: urllib3\n",
            "    Found existing installation: urllib3 2.3.0\n",
            "    Uninstalling urllib3-2.3.0:\n",
            "      Successfully uninstalled urllib3-2.3.0\n",
            "  Attempting uninstall: PyYAML\n",
            "    Found existing installation: PyYAML 6.0.2\n",
            "    Uninstalling PyYAML-6.0.2:\n",
            "      Successfully uninstalled PyYAML-6.0.2\n",
            "\u001b[31mERROR: pip's dependency resolver does not currently take into account all the packages that are installed. This behaviour is the source of the following dependency conflicts.\n",
            "google-genai 0.8.0 requires websockets<15.0dev,>=13.0, but you have websockets 10.4 which is incompatible.\u001b[0m\u001b[31m\n",
            "\u001b[0mSuccessfully installed PyYAML-6.0.1 alpaca-trade-api-3.2.0 deprecation-2.1.0 msgpack-1.0.3 urllib3-1.26.20 websockets-10.4\n"
          ]
        }
      ],
      "source": [
        "!pip install yfinance tensorflow scikit-learn alpaca-trade-api\n"
      ]
    },
    {
      "cell_type": "code",
      "source": [
        "import yfinance as yf\n",
        "import time\n",
        "\n",
        "# Function to get real-time stock data\n",
        "def get_realtime_data(ticker):\n",
        "    stock_data = yf.download(ticker, period=\"1d\", interval=\"1m\")  # 1-minute intervals\n",
        "    return stock_data\n",
        "\n",
        "# Example to track Apple stock (AAPL)\n",
        "ticker = 'AAPL'\n",
        "\n",
        "# Get stock data for a short period for real-time analysis\n",
        "stock_data = get_realtime_data(ticker)\n",
        "print(stock_data.tail())  # Show the most recent data\n"
      ],
      "metadata": {
        "colab": {
          "base_uri": "https://localhost:8080/"
        },
        "id": "EicyOKZCWPKh",
        "outputId": "e0ef1db8-2e5a-444b-fa87-ebf2477d2db2"
      },
      "execution_count": 2,
      "outputs": [
        {
          "output_type": "stream",
          "name": "stderr",
          "text": [
            "\r[*********************100%***********************]  1 of 1 completed"
          ]
        },
        {
          "output_type": "stream",
          "name": "stdout",
          "text": [
            "Price                           Close        High         Low        Open  \\\n",
            "Ticker                           AAPL        AAPL        AAPL        AAPL   \n",
            "Datetime                                                                    \n",
            "2025-02-14 20:55:00+00:00  244.699997  245.039993  244.630005  245.039993   \n",
            "2025-02-14 20:56:00+00:00  245.002396  245.059998  244.699997  244.714996   \n",
            "2025-02-14 20:57:00+00:00  244.990005  245.110001  244.880005  245.009995   \n",
            "2025-02-14 20:58:00+00:00  244.910004  245.000000  244.729996  244.990005   \n",
            "2025-02-14 20:59:00+00:00  244.570007  245.050003  244.509995  244.919998   \n",
            "\n",
            "Price                      Volume  \n",
            "Ticker                       AAPL  \n",
            "Datetime                           \n",
            "2025-02-14 20:55:00+00:00  351681  \n",
            "2025-02-14 20:56:00+00:00  334620  \n",
            "2025-02-14 20:57:00+00:00  280222  \n",
            "2025-02-14 20:58:00+00:00  295631  \n",
            "2025-02-14 20:59:00+00:00  687414  \n"
          ]
        },
        {
          "output_type": "stream",
          "name": "stderr",
          "text": [
            "\n"
          ]
        }
      ]
    },
    {
      "cell_type": "code",
      "source": [
        "import yfinance as yf\n",
        "import time\n",
        "\n",
        "# Function to fetch real-time stock data\n",
        "def get_realtime_data(ticker):\n",
        "    try:\n",
        "        stock_data = yf.download(ticker, period=\"1d\", interval=\"1m\")  # 1-minute interval data\n",
        "        return stock_data\n",
        "    except Exception as e:\n",
        "        print(f\"Error fetching real-time data: {e}\")\n",
        "        return None\n",
        "\n",
        "# Continuously fetch stock data at regular intervals (every 10 seconds)\n",
        "ticker = 'AAPL'  # Example: Apple stock\n",
        "while True:\n",
        "    data = get_realtime_data(ticker)\n",
        "\n",
        "    # If data is fetched successfully, print the latest data point\n",
        "    if data is not None:\n",
        "        print(data.tail(1))  # Print the latest data point (last row)\n",
        "    else:\n",
        "        print(\"Failed to fetch data.\")\n",
        "\n",
        "    time.sleep(10)  # Wait for 10 seconds before fetching the next data point\n",
        "\n"
      ],
      "metadata": {
        "colab": {
          "base_uri": "https://localhost:8080/"
        },
        "id": "c0SUl5P5WXzn",
        "outputId": "1ac881cb-86aa-451b-e71e-bfbdabcc03d7"
      },
      "execution_count": null,
      "outputs": [
        {
          "output_type": "stream",
          "name": "stderr",
          "text": [
            "\r[*********************100%***********************]  1 of 1 completed\n"
          ]
        },
        {
          "output_type": "stream",
          "name": "stdout",
          "text": [
            "Price                           Close        High         Low        Open  \\\n",
            "Ticker                           AAPL        AAPL        AAPL        AAPL   \n",
            "Datetime                                                                    \n",
            "2025-02-14 20:59:00+00:00  244.570007  245.050003  244.509995  244.919998   \n",
            "\n",
            "Price                      Volume  \n",
            "Ticker                       AAPL  \n",
            "Datetime                           \n",
            "2025-02-14 20:59:00+00:00  687414  \n"
          ]
        },
        {
          "output_type": "stream",
          "name": "stderr",
          "text": [
            "\r[*********************100%***********************]  1 of 1 completed\n"
          ]
        },
        {
          "output_type": "stream",
          "name": "stdout",
          "text": [
            "Price                           Close        High         Low        Open  \\\n",
            "Ticker                           AAPL        AAPL        AAPL        AAPL   \n",
            "Datetime                                                                    \n",
            "2025-02-14 20:59:00+00:00  244.570007  245.050003  244.509995  244.919998   \n",
            "\n",
            "Price                      Volume  \n",
            "Ticker                       AAPL  \n",
            "Datetime                           \n",
            "2025-02-14 20:59:00+00:00  687414  \n"
          ]
        },
        {
          "output_type": "stream",
          "name": "stderr",
          "text": [
            "\r[*********************100%***********************]  1 of 1 completed\n"
          ]
        },
        {
          "output_type": "stream",
          "name": "stdout",
          "text": [
            "Price                           Close        High         Low        Open  \\\n",
            "Ticker                           AAPL        AAPL        AAPL        AAPL   \n",
            "Datetime                                                                    \n",
            "2025-02-14 20:59:00+00:00  244.570007  245.050003  244.509995  244.919998   \n",
            "\n",
            "Price                      Volume  \n",
            "Ticker                       AAPL  \n",
            "Datetime                           \n",
            "2025-02-14 20:59:00+00:00  687414  \n"
          ]
        },
        {
          "output_type": "stream",
          "name": "stderr",
          "text": [
            "\r[*********************100%***********************]  1 of 1 completed\n"
          ]
        },
        {
          "output_type": "stream",
          "name": "stdout",
          "text": [
            "Price                           Close        High         Low        Open  \\\n",
            "Ticker                           AAPL        AAPL        AAPL        AAPL   \n",
            "Datetime                                                                    \n",
            "2025-02-14 20:59:00+00:00  244.570007  245.050003  244.509995  244.919998   \n",
            "\n",
            "Price                      Volume  \n",
            "Ticker                       AAPL  \n",
            "Datetime                           \n",
            "2025-02-14 20:59:00+00:00  687414  \n"
          ]
        },
        {
          "output_type": "stream",
          "name": "stderr",
          "text": [
            "\r[*********************100%***********************]  1 of 1 completed\n"
          ]
        },
        {
          "output_type": "stream",
          "name": "stdout",
          "text": [
            "Price                           Close        High         Low        Open  \\\n",
            "Ticker                           AAPL        AAPL        AAPL        AAPL   \n",
            "Datetime                                                                    \n",
            "2025-02-14 20:59:00+00:00  244.570007  245.050003  244.509995  244.919998   \n",
            "\n",
            "Price                      Volume  \n",
            "Ticker                       AAPL  \n",
            "Datetime                           \n",
            "2025-02-14 20:59:00+00:00  687414  \n"
          ]
        },
        {
          "output_type": "stream",
          "name": "stderr",
          "text": [
            "\r[*********************100%***********************]  1 of 1 completed\n"
          ]
        },
        {
          "output_type": "stream",
          "name": "stdout",
          "text": [
            "Price                           Close        High         Low        Open  \\\n",
            "Ticker                           AAPL        AAPL        AAPL        AAPL   \n",
            "Datetime                                                                    \n",
            "2025-02-14 20:59:00+00:00  244.570007  245.050003  244.509995  244.919998   \n",
            "\n",
            "Price                      Volume  \n",
            "Ticker                       AAPL  \n",
            "Datetime                           \n",
            "2025-02-14 20:59:00+00:00  687414  \n"
          ]
        },
        {
          "output_type": "stream",
          "name": "stderr",
          "text": [
            "\r[*********************100%***********************]  1 of 1 completed\n"
          ]
        },
        {
          "output_type": "stream",
          "name": "stdout",
          "text": [
            "Price                           Close        High         Low        Open  \\\n",
            "Ticker                           AAPL        AAPL        AAPL        AAPL   \n",
            "Datetime                                                                    \n",
            "2025-02-14 20:59:00+00:00  244.570007  245.050003  244.509995  244.919998   \n",
            "\n",
            "Price                      Volume  \n",
            "Ticker                       AAPL  \n",
            "Datetime                           \n",
            "2025-02-14 20:59:00+00:00  687414  \n"
          ]
        },
        {
          "output_type": "stream",
          "name": "stderr",
          "text": [
            "\r[*********************100%***********************]  1 of 1 completed\n"
          ]
        },
        {
          "output_type": "stream",
          "name": "stdout",
          "text": [
            "Price                           Close        High         Low        Open  \\\n",
            "Ticker                           AAPL        AAPL        AAPL        AAPL   \n",
            "Datetime                                                                    \n",
            "2025-02-14 20:59:00+00:00  244.570007  245.050003  244.509995  244.919998   \n",
            "\n",
            "Price                      Volume  \n",
            "Ticker                       AAPL  \n",
            "Datetime                           \n",
            "2025-02-14 20:59:00+00:00  687414  \n"
          ]
        },
        {
          "output_type": "stream",
          "name": "stderr",
          "text": [
            "\r[*********************100%***********************]  1 of 1 completed\n"
          ]
        },
        {
          "output_type": "stream",
          "name": "stdout",
          "text": [
            "Price                           Close        High         Low        Open  \\\n",
            "Ticker                           AAPL        AAPL        AAPL        AAPL   \n",
            "Datetime                                                                    \n",
            "2025-02-14 20:59:00+00:00  244.570007  245.050003  244.509995  244.919998   \n",
            "\n",
            "Price                      Volume  \n",
            "Ticker                       AAPL  \n",
            "Datetime                           \n",
            "2025-02-14 20:59:00+00:00  687414  \n"
          ]
        },
        {
          "output_type": "stream",
          "name": "stderr",
          "text": [
            "\r[*********************100%***********************]  1 of 1 completed\n"
          ]
        },
        {
          "output_type": "stream",
          "name": "stdout",
          "text": [
            "Price                           Close        High         Low        Open  \\\n",
            "Ticker                           AAPL        AAPL        AAPL        AAPL   \n",
            "Datetime                                                                    \n",
            "2025-02-14 20:59:00+00:00  244.570007  245.050003  244.509995  244.919998   \n",
            "\n",
            "Price                      Volume  \n",
            "Ticker                       AAPL  \n",
            "Datetime                           \n",
            "2025-02-14 20:59:00+00:00  687414  \n"
          ]
        },
        {
          "output_type": "stream",
          "name": "stderr",
          "text": [
            "\r[*********************100%***********************]  1 of 1 completed\n"
          ]
        },
        {
          "output_type": "stream",
          "name": "stdout",
          "text": [
            "Price                           Close        High         Low        Open  \\\n",
            "Ticker                           AAPL        AAPL        AAPL        AAPL   \n",
            "Datetime                                                                    \n",
            "2025-02-14 20:59:00+00:00  244.570007  245.050003  244.509995  244.919998   \n",
            "\n",
            "Price                      Volume  \n",
            "Ticker                       AAPL  \n",
            "Datetime                           \n",
            "2025-02-14 20:59:00+00:00  687414  \n"
          ]
        },
        {
          "output_type": "stream",
          "name": "stderr",
          "text": [
            "\r[*********************100%***********************]  1 of 1 completed\n"
          ]
        },
        {
          "output_type": "stream",
          "name": "stdout",
          "text": [
            "Price                           Close        High         Low        Open  \\\n",
            "Ticker                           AAPL        AAPL        AAPL        AAPL   \n",
            "Datetime                                                                    \n",
            "2025-02-14 20:59:00+00:00  244.570007  245.050003  244.509995  244.919998   \n",
            "\n",
            "Price                      Volume  \n",
            "Ticker                       AAPL  \n",
            "Datetime                           \n",
            "2025-02-14 20:59:00+00:00  687414  \n"
          ]
        },
        {
          "output_type": "stream",
          "name": "stderr",
          "text": [
            "\r[*********************100%***********************]  1 of 1 completed\n"
          ]
        },
        {
          "output_type": "stream",
          "name": "stdout",
          "text": [
            "Price                           Close        High         Low        Open  \\\n",
            "Ticker                           AAPL        AAPL        AAPL        AAPL   \n",
            "Datetime                                                                    \n",
            "2025-02-14 20:59:00+00:00  244.570007  245.050003  244.509995  244.919998   \n",
            "\n",
            "Price                      Volume  \n",
            "Ticker                       AAPL  \n",
            "Datetime                           \n",
            "2025-02-14 20:59:00+00:00  687414  \n"
          ]
        },
        {
          "output_type": "stream",
          "name": "stderr",
          "text": [
            "\r[*********************100%***********************]  1 of 1 completed\n"
          ]
        },
        {
          "output_type": "stream",
          "name": "stdout",
          "text": [
            "Price                           Close        High         Low        Open  \\\n",
            "Ticker                           AAPL        AAPL        AAPL        AAPL   \n",
            "Datetime                                                                    \n",
            "2025-02-14 20:59:00+00:00  244.570007  245.050003  244.509995  244.919998   \n",
            "\n",
            "Price                      Volume  \n",
            "Ticker                       AAPL  \n",
            "Datetime                           \n",
            "2025-02-14 20:59:00+00:00  687414  \n"
          ]
        },
        {
          "output_type": "stream",
          "name": "stderr",
          "text": [
            "\r[*********************100%***********************]  1 of 1 completed\n"
          ]
        },
        {
          "output_type": "stream",
          "name": "stdout",
          "text": [
            "Price                           Close        High         Low        Open  \\\n",
            "Ticker                           AAPL        AAPL        AAPL        AAPL   \n",
            "Datetime                                                                    \n",
            "2025-02-14 20:59:00+00:00  244.570007  245.050003  244.509995  244.919998   \n",
            "\n",
            "Price                      Volume  \n",
            "Ticker                       AAPL  \n",
            "Datetime                           \n",
            "2025-02-14 20:59:00+00:00  687414  \n"
          ]
        },
        {
          "output_type": "stream",
          "name": "stderr",
          "text": [
            "\r[*********************100%***********************]  1 of 1 completed\n"
          ]
        },
        {
          "output_type": "stream",
          "name": "stdout",
          "text": [
            "Price                           Close        High         Low        Open  \\\n",
            "Ticker                           AAPL        AAPL        AAPL        AAPL   \n",
            "Datetime                                                                    \n",
            "2025-02-14 20:59:00+00:00  244.570007  245.050003  244.509995  244.919998   \n",
            "\n",
            "Price                      Volume  \n",
            "Ticker                       AAPL  \n",
            "Datetime                           \n",
            "2025-02-14 20:59:00+00:00  687414  \n"
          ]
        },
        {
          "output_type": "stream",
          "name": "stderr",
          "text": [
            "\r[*********************100%***********************]  1 of 1 completed\n"
          ]
        },
        {
          "output_type": "stream",
          "name": "stdout",
          "text": [
            "Price                           Close        High         Low        Open  \\\n",
            "Ticker                           AAPL        AAPL        AAPL        AAPL   \n",
            "Datetime                                                                    \n",
            "2025-02-14 20:59:00+00:00  244.570007  245.050003  244.509995  244.919998   \n",
            "\n",
            "Price                      Volume  \n",
            "Ticker                       AAPL  \n",
            "Datetime                           \n",
            "2025-02-14 20:59:00+00:00  687414  \n"
          ]
        },
        {
          "output_type": "stream",
          "name": "stderr",
          "text": [
            "\r[*********************100%***********************]  1 of 1 completed\n"
          ]
        },
        {
          "output_type": "stream",
          "name": "stdout",
          "text": [
            "Price                           Close        High         Low        Open  \\\n",
            "Ticker                           AAPL        AAPL        AAPL        AAPL   \n",
            "Datetime                                                                    \n",
            "2025-02-14 20:59:00+00:00  244.570007  245.050003  244.509995  244.919998   \n",
            "\n",
            "Price                      Volume  \n",
            "Ticker                       AAPL  \n",
            "Datetime                           \n",
            "2025-02-14 20:59:00+00:00  687414  \n"
          ]
        },
        {
          "output_type": "stream",
          "name": "stderr",
          "text": [
            "\r[*********************100%***********************]  1 of 1 completed\n"
          ]
        },
        {
          "output_type": "stream",
          "name": "stdout",
          "text": [
            "Price                           Close        High         Low        Open  \\\n",
            "Ticker                           AAPL        AAPL        AAPL        AAPL   \n",
            "Datetime                                                                    \n",
            "2025-02-14 20:59:00+00:00  244.570007  245.050003  244.509995  244.919998   \n",
            "\n",
            "Price                      Volume  \n",
            "Ticker                       AAPL  \n",
            "Datetime                           \n",
            "2025-02-14 20:59:00+00:00  687414  \n"
          ]
        },
        {
          "output_type": "stream",
          "name": "stderr",
          "text": [
            "\r[*********************100%***********************]  1 of 1 completed\n"
          ]
        },
        {
          "output_type": "stream",
          "name": "stdout",
          "text": [
            "Price                           Close        High         Low        Open  \\\n",
            "Ticker                           AAPL        AAPL        AAPL        AAPL   \n",
            "Datetime                                                                    \n",
            "2025-02-14 20:59:00+00:00  244.570007  245.050003  244.509995  244.919998   \n",
            "\n",
            "Price                      Volume  \n",
            "Ticker                       AAPL  \n",
            "Datetime                           \n",
            "2025-02-14 20:59:00+00:00  687414  \n"
          ]
        },
        {
          "output_type": "stream",
          "name": "stderr",
          "text": [
            "\r[*********************100%***********************]  1 of 1 completed\n"
          ]
        },
        {
          "output_type": "stream",
          "name": "stdout",
          "text": [
            "Price                           Close        High         Low        Open  \\\n",
            "Ticker                           AAPL        AAPL        AAPL        AAPL   \n",
            "Datetime                                                                    \n",
            "2025-02-14 20:59:00+00:00  244.570007  245.050003  244.509995  244.919998   \n",
            "\n",
            "Price                      Volume  \n",
            "Ticker                       AAPL  \n",
            "Datetime                           \n",
            "2025-02-14 20:59:00+00:00  687414  \n"
          ]
        },
        {
          "output_type": "stream",
          "name": "stderr",
          "text": [
            "\r[*********************100%***********************]  1 of 1 completed\n"
          ]
        },
        {
          "output_type": "stream",
          "name": "stdout",
          "text": [
            "Price                           Close        High         Low        Open  \\\n",
            "Ticker                           AAPL        AAPL        AAPL        AAPL   \n",
            "Datetime                                                                    \n",
            "2025-02-14 20:59:00+00:00  244.570007  245.050003  244.509995  244.919998   \n",
            "\n",
            "Price                      Volume  \n",
            "Ticker                       AAPL  \n",
            "Datetime                           \n",
            "2025-02-14 20:59:00+00:00  687414  \n"
          ]
        },
        {
          "output_type": "stream",
          "name": "stderr",
          "text": [
            "\r[*********************100%***********************]  1 of 1 completed\n"
          ]
        },
        {
          "output_type": "stream",
          "name": "stdout",
          "text": [
            "Price                           Close        High         Low        Open  \\\n",
            "Ticker                           AAPL        AAPL        AAPL        AAPL   \n",
            "Datetime                                                                    \n",
            "2025-02-14 20:59:00+00:00  244.570007  245.050003  244.509995  244.919998   \n",
            "\n",
            "Price                      Volume  \n",
            "Ticker                       AAPL  \n",
            "Datetime                           \n",
            "2025-02-14 20:59:00+00:00  687414  \n"
          ]
        },
        {
          "output_type": "stream",
          "name": "stderr",
          "text": [
            "\r[*********************100%***********************]  1 of 1 completed\n"
          ]
        },
        {
          "output_type": "stream",
          "name": "stdout",
          "text": [
            "Price                           Close        High         Low        Open  \\\n",
            "Ticker                           AAPL        AAPL        AAPL        AAPL   \n",
            "Datetime                                                                    \n",
            "2025-02-14 20:59:00+00:00  244.570007  245.050003  244.509995  244.919998   \n",
            "\n",
            "Price                      Volume  \n",
            "Ticker                       AAPL  \n",
            "Datetime                           \n",
            "2025-02-14 20:59:00+00:00  687414  \n"
          ]
        },
        {
          "output_type": "stream",
          "name": "stderr",
          "text": [
            "\r[*********************100%***********************]  1 of 1 completed\n"
          ]
        },
        {
          "output_type": "stream",
          "name": "stdout",
          "text": [
            "Price                           Close        High         Low        Open  \\\n",
            "Ticker                           AAPL        AAPL        AAPL        AAPL   \n",
            "Datetime                                                                    \n",
            "2025-02-14 20:59:00+00:00  244.570007  245.050003  244.509995  244.919998   \n",
            "\n",
            "Price                      Volume  \n",
            "Ticker                       AAPL  \n",
            "Datetime                           \n",
            "2025-02-14 20:59:00+00:00  687414  \n"
          ]
        },
        {
          "output_type": "stream",
          "name": "stderr",
          "text": [
            "\r[*********************100%***********************]  1 of 1 completed\n"
          ]
        },
        {
          "output_type": "stream",
          "name": "stdout",
          "text": [
            "Price                           Close        High         Low        Open  \\\n",
            "Ticker                           AAPL        AAPL        AAPL        AAPL   \n",
            "Datetime                                                                    \n",
            "2025-02-14 20:59:00+00:00  244.570007  245.050003  244.509995  244.919998   \n",
            "\n",
            "Price                      Volume  \n",
            "Ticker                       AAPL  \n",
            "Datetime                           \n",
            "2025-02-14 20:59:00+00:00  687414  \n"
          ]
        },
        {
          "output_type": "stream",
          "name": "stderr",
          "text": [
            "\r[*********************100%***********************]  1 of 1 completed\n"
          ]
        },
        {
          "output_type": "stream",
          "name": "stdout",
          "text": [
            "Price                           Close        High         Low        Open  \\\n",
            "Ticker                           AAPL        AAPL        AAPL        AAPL   \n",
            "Datetime                                                                    \n",
            "2025-02-14 20:59:00+00:00  244.570007  245.050003  244.509995  244.919998   \n",
            "\n",
            "Price                      Volume  \n",
            "Ticker                       AAPL  \n",
            "Datetime                           \n",
            "2025-02-14 20:59:00+00:00  687414  \n"
          ]
        },
        {
          "output_type": "stream",
          "name": "stderr",
          "text": [
            "\r[*********************100%***********************]  1 of 1 completed\n"
          ]
        },
        {
          "output_type": "stream",
          "name": "stdout",
          "text": [
            "Price                           Close        High         Low        Open  \\\n",
            "Ticker                           AAPL        AAPL        AAPL        AAPL   \n",
            "Datetime                                                                    \n",
            "2025-02-14 20:59:00+00:00  244.570007  245.050003  244.509995  244.919998   \n",
            "\n",
            "Price                      Volume  \n",
            "Ticker                       AAPL  \n",
            "Datetime                           \n",
            "2025-02-14 20:59:00+00:00  687414  \n"
          ]
        },
        {
          "output_type": "stream",
          "name": "stderr",
          "text": [
            "\r[*********************100%***********************]  1 of 1 completed\n"
          ]
        },
        {
          "output_type": "stream",
          "name": "stdout",
          "text": [
            "Price                           Close        High         Low        Open  \\\n",
            "Ticker                           AAPL        AAPL        AAPL        AAPL   \n",
            "Datetime                                                                    \n",
            "2025-02-14 20:59:00+00:00  244.570007  245.050003  244.509995  244.919998   \n",
            "\n",
            "Price                      Volume  \n",
            "Ticker                       AAPL  \n",
            "Datetime                           \n",
            "2025-02-14 20:59:00+00:00  687414  \n"
          ]
        },
        {
          "output_type": "stream",
          "name": "stderr",
          "text": [
            "\r[*********************100%***********************]  1 of 1 completed\n"
          ]
        },
        {
          "output_type": "stream",
          "name": "stdout",
          "text": [
            "Price                           Close        High         Low        Open  \\\n",
            "Ticker                           AAPL        AAPL        AAPL        AAPL   \n",
            "Datetime                                                                    \n",
            "2025-02-14 20:59:00+00:00  244.570007  245.050003  244.509995  244.919998   \n",
            "\n",
            "Price                      Volume  \n",
            "Ticker                       AAPL  \n",
            "Datetime                           \n",
            "2025-02-14 20:59:00+00:00  687414  \n"
          ]
        },
        {
          "output_type": "stream",
          "name": "stderr",
          "text": [
            "\r[*********************100%***********************]  1 of 1 completed\n"
          ]
        },
        {
          "output_type": "stream",
          "name": "stdout",
          "text": [
            "Price                           Close        High         Low        Open  \\\n",
            "Ticker                           AAPL        AAPL        AAPL        AAPL   \n",
            "Datetime                                                                    \n",
            "2025-02-14 20:59:00+00:00  244.570007  245.050003  244.509995  244.919998   \n",
            "\n",
            "Price                      Volume  \n",
            "Ticker                       AAPL  \n",
            "Datetime                           \n",
            "2025-02-14 20:59:00+00:00  687414  \n"
          ]
        },
        {
          "output_type": "stream",
          "name": "stderr",
          "text": [
            "\r[*********************100%***********************]  1 of 1 completed\n"
          ]
        },
        {
          "output_type": "stream",
          "name": "stdout",
          "text": [
            "Price                           Close        High         Low        Open  \\\n",
            "Ticker                           AAPL        AAPL        AAPL        AAPL   \n",
            "Datetime                                                                    \n",
            "2025-02-14 20:59:00+00:00  244.570007  245.050003  244.509995  244.919998   \n",
            "\n",
            "Price                      Volume  \n",
            "Ticker                       AAPL  \n",
            "Datetime                           \n",
            "2025-02-14 20:59:00+00:00  687414  \n"
          ]
        },
        {
          "output_type": "stream",
          "name": "stderr",
          "text": [
            "\r[*********************100%***********************]  1 of 1 completed\n"
          ]
        },
        {
          "output_type": "stream",
          "name": "stdout",
          "text": [
            "Price                           Close        High         Low        Open  \\\n",
            "Ticker                           AAPL        AAPL        AAPL        AAPL   \n",
            "Datetime                                                                    \n",
            "2025-02-14 20:59:00+00:00  244.570007  245.050003  244.509995  244.919998   \n",
            "\n",
            "Price                      Volume  \n",
            "Ticker                       AAPL  \n",
            "Datetime                           \n",
            "2025-02-14 20:59:00+00:00  687414  \n"
          ]
        },
        {
          "output_type": "stream",
          "name": "stderr",
          "text": [
            "\r[*********************100%***********************]  1 of 1 completed\n"
          ]
        },
        {
          "output_type": "stream",
          "name": "stdout",
          "text": [
            "Price                           Close        High         Low        Open  \\\n",
            "Ticker                           AAPL        AAPL        AAPL        AAPL   \n",
            "Datetime                                                                    \n",
            "2025-02-14 20:59:00+00:00  244.570007  245.050003  244.509995  244.919998   \n",
            "\n",
            "Price                      Volume  \n",
            "Ticker                       AAPL  \n",
            "Datetime                           \n",
            "2025-02-14 20:59:00+00:00  687414  \n"
          ]
        },
        {
          "output_type": "stream",
          "name": "stderr",
          "text": [
            "\r[*********************100%***********************]  1 of 1 completed\n"
          ]
        },
        {
          "output_type": "stream",
          "name": "stdout",
          "text": [
            "Price                           Close        High         Low        Open  \\\n",
            "Ticker                           AAPL        AAPL        AAPL        AAPL   \n",
            "Datetime                                                                    \n",
            "2025-02-14 20:59:00+00:00  244.570007  245.050003  244.509995  244.919998   \n",
            "\n",
            "Price                      Volume  \n",
            "Ticker                       AAPL  \n",
            "Datetime                           \n",
            "2025-02-14 20:59:00+00:00  687414  \n"
          ]
        },
        {
          "output_type": "stream",
          "name": "stderr",
          "text": [
            "\r[*********************100%***********************]  1 of 1 completed\n"
          ]
        },
        {
          "output_type": "stream",
          "name": "stdout",
          "text": [
            "Price                           Close        High         Low        Open  \\\n",
            "Ticker                           AAPL        AAPL        AAPL        AAPL   \n",
            "Datetime                                                                    \n",
            "2025-02-14 20:59:00+00:00  244.570007  245.050003  244.509995  244.919998   \n",
            "\n",
            "Price                      Volume  \n",
            "Ticker                       AAPL  \n",
            "Datetime                           \n",
            "2025-02-14 20:59:00+00:00  687414  \n"
          ]
        },
        {
          "output_type": "stream",
          "name": "stderr",
          "text": [
            "\r[*********************100%***********************]  1 of 1 completed\n"
          ]
        },
        {
          "output_type": "stream",
          "name": "stdout",
          "text": [
            "Price                           Close        High         Low        Open  \\\n",
            "Ticker                           AAPL        AAPL        AAPL        AAPL   \n",
            "Datetime                                                                    \n",
            "2025-02-14 20:59:00+00:00  244.570007  245.050003  244.509995  244.919998   \n",
            "\n",
            "Price                      Volume  \n",
            "Ticker                       AAPL  \n",
            "Datetime                           \n",
            "2025-02-14 20:59:00+00:00  687414  \n"
          ]
        },
        {
          "output_type": "stream",
          "name": "stderr",
          "text": [
            "\r[*********************100%***********************]  1 of 1 completed\n"
          ]
        },
        {
          "output_type": "stream",
          "name": "stdout",
          "text": [
            "Price                           Close        High         Low        Open  \\\n",
            "Ticker                           AAPL        AAPL        AAPL        AAPL   \n",
            "Datetime                                                                    \n",
            "2025-02-14 20:59:00+00:00  244.570007  245.050003  244.509995  244.919998   \n",
            "\n",
            "Price                      Volume  \n",
            "Ticker                       AAPL  \n",
            "Datetime                           \n",
            "2025-02-14 20:59:00+00:00  687414  \n"
          ]
        },
        {
          "output_type": "stream",
          "name": "stderr",
          "text": [
            "\r[*********************100%***********************]  1 of 1 completed\n"
          ]
        },
        {
          "output_type": "stream",
          "name": "stdout",
          "text": [
            "Price                           Close        High         Low        Open  \\\n",
            "Ticker                           AAPL        AAPL        AAPL        AAPL   \n",
            "Datetime                                                                    \n",
            "2025-02-14 20:59:00+00:00  244.570007  245.050003  244.509995  244.919998   \n",
            "\n",
            "Price                      Volume  \n",
            "Ticker                       AAPL  \n",
            "Datetime                           \n",
            "2025-02-14 20:59:00+00:00  687414  \n"
          ]
        },
        {
          "output_type": "stream",
          "name": "stderr",
          "text": [
            "\r[*********************100%***********************]  1 of 1 completed\n"
          ]
        },
        {
          "output_type": "stream",
          "name": "stdout",
          "text": [
            "Price                           Close        High         Low        Open  \\\n",
            "Ticker                           AAPL        AAPL        AAPL        AAPL   \n",
            "Datetime                                                                    \n",
            "2025-02-14 20:59:00+00:00  244.570007  245.050003  244.509995  244.919998   \n",
            "\n",
            "Price                      Volume  \n",
            "Ticker                       AAPL  \n",
            "Datetime                           \n",
            "2025-02-14 20:59:00+00:00  687414  \n"
          ]
        },
        {
          "output_type": "stream",
          "name": "stderr",
          "text": [
            "\r[*********************100%***********************]  1 of 1 completed\n"
          ]
        },
        {
          "output_type": "stream",
          "name": "stdout",
          "text": [
            "Price                           Close        High         Low        Open  \\\n",
            "Ticker                           AAPL        AAPL        AAPL        AAPL   \n",
            "Datetime                                                                    \n",
            "2025-02-14 20:59:00+00:00  244.570007  245.050003  244.509995  244.919998   \n",
            "\n",
            "Price                      Volume  \n",
            "Ticker                       AAPL  \n",
            "Datetime                           \n",
            "2025-02-14 20:59:00+00:00  687414  \n"
          ]
        },
        {
          "output_type": "stream",
          "name": "stderr",
          "text": [
            "\r[*********************100%***********************]  1 of 1 completed\n"
          ]
        },
        {
          "output_type": "stream",
          "name": "stdout",
          "text": [
            "Price                           Close        High         Low        Open  \\\n",
            "Ticker                           AAPL        AAPL        AAPL        AAPL   \n",
            "Datetime                                                                    \n",
            "2025-02-14 20:59:00+00:00  244.570007  245.050003  244.509995  244.919998   \n",
            "\n",
            "Price                      Volume  \n",
            "Ticker                       AAPL  \n",
            "Datetime                           \n",
            "2025-02-14 20:59:00+00:00  687414  \n"
          ]
        }
      ]
    },
    {
      "cell_type": "code",
      "source": [
        "import numpy as np\n",
        "import pandas as pd\n",
        "from sklearn.preprocessing import MinMaxScaler\n",
        "import tensorflow as tf\n",
        "from tensorflow.keras.models import Sequential\n",
        "from tensorflow.keras.layers import LSTM, Dense"
      ],
      "metadata": {
        "id": "Ii6d2wUCX5Hi"
      },
      "execution_count": 4,
      "outputs": []
    },
    {
      "cell_type": "code",
      "source": [
        "data = yf.download(\"AAPL\", start=\"2010-01-01\", end=\"2023-01-01\")\n",
        "data = data[['Close']]"
      ],
      "metadata": {
        "colab": {
          "base_uri": "https://localhost:8080/"
        },
        "id": "MCMxFoFOYFuU",
        "outputId": "4fc44695-dce7-41cb-b966-3b8047fe5f7b"
      },
      "execution_count": 5,
      "outputs": [
        {
          "output_type": "stream",
          "name": "stderr",
          "text": [
            "\r[*********************100%***********************]  1 of 1 completed\n"
          ]
        }
      ]
    },
    {
      "cell_type": "code",
      "source": [
        "scaler = MinMaxScaler(feature_range=(0, 1))\n",
        "scaled_data = scaler.fit_transform(data)\n",
        "\n",
        "train_size = int(len(scaled_data) * 0.8)\n",
        "train_data = scaled_data[:train_size]\n",
        "test_data = scaled_data[train_size:]"
      ],
      "metadata": {
        "id": "oC8YyLHAYHrv"
      },
      "execution_count": 6,
      "outputs": []
    },
    {
      "cell_type": "code",
      "source": [
        "def create_dataset(data, time_step=60):\n",
        "    X, y = [], []\n",
        "    for i in range(len(data) - time_step - 1):\n",
        "        X.append(data[i:(i + time_step), 0])\n",
        "        y.append(data[i + time_step, 0])\n",
        "    return np.array(X), np.array(y)"
      ],
      "metadata": {
        "id": "8LRF3QlNYO1O"
      },
      "execution_count": 7,
      "outputs": []
    },
    {
      "cell_type": "code",
      "source": [
        "X_train, y_train = create_dataset(train_data)\n",
        "X_test, y_test = create_dataset(test_data)\n",
        "\n",
        "# Reshape data into 3D format (samples, time steps, features)\n",
        "X_train = X_train.reshape(X_train.shape[0], X_train.shape[1], 1)\n",
        "X_test = X_test.reshape(X_test.shape[0], X_test.shape[1], 1)"
      ],
      "metadata": {
        "id": "BNjkM39RYSfm"
      },
      "execution_count": 8,
      "outputs": []
    },
    {
      "cell_type": "code",
      "source": [
        "# Build the LSTM model\n",
        "model = Sequential()\n",
        "model.add(LSTM(units=50, return_sequences=True, input_shape=(X_train.shape[1], 1)))\n",
        "model.add(LSTM(units=50, return_sequences=False))\n",
        "model.add(Dense(units=1))  # Output layer\n",
        "model.compile(optimizer='adam', loss='mean_squared_error')\n",
        "\n",
        "# Train the model\n",
        "model.fit(X_train, y_train, epochs=10, batch_size=32)"
      ],
      "metadata": {
        "colab": {
          "base_uri": "https://localhost:8080/"
        },
        "id": "-dMOiNdgYYfA",
        "outputId": "7bc71415-73a6-48aa-a9fd-aaa02f6769e3"
      },
      "execution_count": 9,
      "outputs": [
        {
          "output_type": "stream",
          "name": "stderr",
          "text": [
            "/usr/local/lib/python3.11/dist-packages/keras/src/layers/rnn/rnn.py:200: UserWarning: Do not pass an `input_shape`/`input_dim` argument to a layer. When using Sequential models, prefer using an `Input(shape)` object as the first layer in the model instead.\n",
            "  super().__init__(**kwargs)\n"
          ]
        },
        {
          "output_type": "stream",
          "name": "stdout",
          "text": [
            "Epoch 1/10\n",
            "\u001b[1m80/80\u001b[0m \u001b[32m━━━━━━━━━━━━━━━━━━━━\u001b[0m\u001b[37m\u001b[0m \u001b[1m9s\u001b[0m 62ms/step - loss: 0.0017\n",
            "Epoch 2/10\n",
            "\u001b[1m80/80\u001b[0m \u001b[32m━━━━━━━━━━━━━━━━━━━━\u001b[0m\u001b[37m\u001b[0m \u001b[1m5s\u001b[0m 67ms/step - loss: 7.8350e-05\n",
            "Epoch 3/10\n",
            "\u001b[1m80/80\u001b[0m \u001b[32m━━━━━━━━━━━━━━━━━━━━\u001b[0m\u001b[37m\u001b[0m \u001b[1m10s\u001b[0m 69ms/step - loss: 6.5374e-05\n",
            "Epoch 4/10\n",
            "\u001b[1m80/80\u001b[0m \u001b[32m━━━━━━━━━━━━━━━━━━━━\u001b[0m\u001b[37m\u001b[0m \u001b[1m9s\u001b[0m 59ms/step - loss: 7.2316e-05\n",
            "Epoch 5/10\n",
            "\u001b[1m80/80\u001b[0m \u001b[32m━━━━━━━━━━━━━━━━━━━━\u001b[0m\u001b[37m\u001b[0m \u001b[1m5s\u001b[0m 62ms/step - loss: 5.2969e-05\n",
            "Epoch 6/10\n",
            "\u001b[1m80/80\u001b[0m \u001b[32m━━━━━━━━━━━━━━━━━━━━\u001b[0m\u001b[37m\u001b[0m \u001b[1m4s\u001b[0m 56ms/step - loss: 5.8472e-05\n",
            "Epoch 7/10\n",
            "\u001b[1m80/80\u001b[0m \u001b[32m━━━━━━━━━━━━━━━━━━━━\u001b[0m\u001b[37m\u001b[0m \u001b[1m6s\u001b[0m 69ms/step - loss: 6.1384e-05\n",
            "Epoch 8/10\n",
            "\u001b[1m80/80\u001b[0m \u001b[32m━━━━━━━━━━━━━━━━━━━━\u001b[0m\u001b[37m\u001b[0m \u001b[1m4s\u001b[0m 56ms/step - loss: 5.4116e-05\n",
            "Epoch 9/10\n",
            "\u001b[1m80/80\u001b[0m \u001b[32m━━━━━━━━━━━━━━━━━━━━\u001b[0m\u001b[37m\u001b[0m \u001b[1m5s\u001b[0m 55ms/step - loss: 4.3968e-05\n",
            "Epoch 10/10\n",
            "\u001b[1m80/80\u001b[0m \u001b[32m━━━━━━━━━━━━━━━━━━━━\u001b[0m\u001b[37m\u001b[0m \u001b[1m6s\u001b[0m 63ms/step - loss: 5.0558e-05\n"
          ]
        },
        {
          "output_type": "execute_result",
          "data": {
            "text/plain": [
              "<keras.src.callbacks.history.History at 0x79dbcb804dd0>"
            ]
          },
          "metadata": {},
          "execution_count": 9
        }
      ]
    },
    {
      "cell_type": "code",
      "source": [
        "# Predict stock prices using the trained model\n",
        "predictions = model.predict(X_test)\n",
        "\n",
        "# Invert the scaling to get the actual stock prices\n",
        "predicted_stock_price = scaler.inverse_transform(predictions)\n",
        "actual_stock_price = scaler.inverse_transform(y_test.reshape(-1, 1))\n"
      ],
      "metadata": {
        "colab": {
          "base_uri": "https://localhost:8080/"
        },
        "id": "DUthmT9FYtIO",
        "outputId": "5e2abb69-54a2-41dd-9b77-3d2f6b173069"
      },
      "execution_count": 10,
      "outputs": [
        {
          "output_type": "stream",
          "name": "stdout",
          "text": [
            "\u001b[1m19/19\u001b[0m \u001b[32m━━━━━━━━━━━━━━━━━━━━\u001b[0m\u001b[37m\u001b[0m \u001b[1m1s\u001b[0m 33ms/step\n"
          ]
        }
      ]
    },
    {
      "cell_type": "code",
      "source": [
        "# Plot the actual vs predicted stock prices\n",
        "import matplotlib.pyplot as plt\n",
        "plt.plot(actual_stock_price, color='blue', label='Actual Stock Price')\n",
        "plt.plot(predicted_stock_price, color='red', label='Predicted Stock Price')\n",
        "plt.title('Stock Price Prediction')\n",
        "plt.xlabel('Time')\n",
        "plt.ylabel('Stock Price')\n",
        "plt.legend()\n",
        "plt.show()"
      ],
      "metadata": {
        "colab": {
          "base_uri": "https://localhost:8080/",
          "height": 472
        },
        "id": "inPLUv06YvXc",
        "outputId": "69aba97c-f68f-4dc5-da7e-60a8f1a03fae"
      },
      "execution_count": 11,
      "outputs": [
        {
          "output_type": "display_data",
          "data": {
            "text/plain": [
              "<Figure size 640x480 with 1 Axes>"
            ],
            "image/png": "[encoded data removed]"
          },
          "metadata": {}
        }
      ]
    },
    {
      "cell_type": "markdown",
      "source": [
        "Automate Stock Trading with Alpaca API"
      ],
      "metadata": {
        "id": "Ubd0cFtXY4a0"
      }
    },
    {
      "cell_type": "code",
      "source": [
        "!pip install alpaca-trade-api\n"
      ],
      "metadata": {
        "colab": {
          "base_uri": "https://localhost:8080/"
        },
        "id": "ohs2-IW5Y9P9",
        "outputId": "312e4600-92eb-4992-ce64-212bc45086f5"
      },
      "execution_count": 12,
      "outputs": [
        {
          "output_type": "stream",
          "name": "stdout",
          "text": [
            "Requirement already satisfied: alpaca-trade-api in /usr/local/lib/python3.11/dist-packages (3.2.0)\n",
            "Requirement already satisfied: pandas>=0.18.1 in /usr/local/lib/python3.11/dist-packages (from alpaca-trade-api) (2.2.2)\n",
            "Requirement already satisfied: numpy>=1.11.1 in /usr/local/lib/python3.11/dist-packages (from alpaca-trade-api) (1.26.4)\n",
            "Requirement already satisfied: requests<3,>2 in /usr/local/lib/python3.11/dist-packages (from alpaca-trade-api) (2.32.3)\n",
            "Requirement already satisfied: urllib3<2,>1.24 in /usr/local/lib/python3.11/dist-packages (from alpaca-trade-api) (1.26.20)\n",
            "Requirement already satisfied: websocket-client<2,>=0.56.0 in /usr/local/lib/python3.11/dist-packages (from alpaca-trade-api) (1.8.0)\n",
            "Requirement already satisfied: websockets<11,>=9.0 in /usr/local/lib/python3.11/dist-packages (from alpaca-trade-api) (10.4)\n",
            "Requirement already satisfied: msgpack==1.0.3 in /usr/local/lib/python3.11/dist-packages (from alpaca-trade-api) (1.0.3)\n",
            "Requirement already satisfied: aiohttp<4,>=3.8.3 in /usr/local/lib/python3.11/dist-packages (from alpaca-trade-api) (3.11.12)\n",
            "Requirement already satisfied: PyYAML==6.0.1 in /usr/local/lib/python3.11/dist-packages (from alpaca-trade-api) (6.0.1)\n",
            "Requirement already satisfied: deprecation==2.1.0 in /usr/local/lib/python3.11/dist-packages (from alpaca-trade-api) (2.1.0)\n",
            "Requirement already satisfied: packaging in /usr/local/lib/python3.11/dist-packages (from deprecation==2.1.0->alpaca-trade-api) (24.2)\n",
            "Requirement already satisfied: aiohappyeyeballs>=2.3.0 in /usr/local/lib/python3.11/dist-packages (from aiohttp<4,>=3.8.3->alpaca-trade-api) (2.4.6)\n",
            "Requirement already satisfied: aiosignal>=1.1.2 in /usr/local/lib/python3.11/dist-packages (from aiohttp<4,>=3.8.3->alpaca-trade-api) (1.3.2)\n",
            "Requirement already satisfied: attrs>=17.3.0 in /usr/local/lib/python3.11/dist-packages (from aiohttp<4,>=3.8.3->alpaca-trade-api) (25.1.0)\n",
            "Requirement already satisfied: frozenlist>=1.1.1 in /usr/local/lib/python3.11/dist-packages (from aiohttp<4,>=3.8.3->alpaca-trade-api) (1.5.0)\n",
            "Requirement already satisfied: multidict<7.0,>=4.5 in /usr/local/lib/python3.11/dist-packages (from aiohttp<4,>=3.8.3->alpaca-trade-api) (6.1.0)\n",
            "Requirement already satisfied: propcache>=0.2.0 in /usr/local/lib/python3.11/dist-packages (from aiohttp<4,>=3.8.3->alpaca-trade-api) (0.2.1)\n",
            "Requirement already satisfied: yarl<2.0,>=1.17.0 in /usr/local/lib/python3.11/dist-packages (from aiohttp<4,>=3.8.3->alpaca-trade-api) (1.18.3)\n",
            "Requirement already satisfied: python-dateutil>=2.8.2 in /usr/local/lib/python3.11/dist-packages (from pandas>=0.18.1->alpaca-trade-api) (2.8.2)\n",
            "Requirement already satisfied: pytz>=2020.1 in /usr/local/lib/python3.11/dist-packages (from pandas>=0.18.1->alpaca-trade-api) (2025.1)\n",
            "Requirement already satisfied: tzdata>=2022.7 in /usr/local/lib/python3.11/dist-packages (from pandas>=0.18.1->alpaca-trade-api) (2025.1)\n",
            "Requirement already satisfied: charset-normalizer<4,>=2 in /usr/local/lib/python3.11/dist-packages (from requests<3,>2->alpaca-trade-api) (3.4.1)\n",
            "Requirement already satisfied: idna<4,>=2.5 in /usr/local/lib/python3.11/dist-packages (from requests<3,>2->alpaca-trade-api) (3.10)\n",
            "Requirement already satisfied: certifi>=2017.4.17 in /usr/local/lib/python3.11/dist-packages (from requests<3,>2->alpaca-trade-api) (2025.1.31)\n",
            "Requirement already satisfied: six>=1.5 in /usr/local/lib/python3.11/dist-packages (from python-dateutil>=2.8.2->pandas>=0.18.1->alpaca-trade-api) (1.17.0)\n"
          ]
        }
      ]
    },
    {
      "cell_type": "code",
      "source": [
        "import alpaca_trade_api as tradeapi\n",
        "\n",
        "# Replace with your own Alpaca API Key and Secret\n",
        "API_KEY = '***********'\n",
        "API_SECRET = '*********************'\n",
        "BASE_URL = 'https://api.alpaca.markets'  # For paper trading (real trading uses a different URL)\n",
        "\n",
        "# Initialize Alpaca API\n",
        "api = tradeapi.REST(API_KEY, API_SECRET, BASE_URL, api_version='v2')\n"
      ],
      "metadata": {
        "id": "Rvo6ItWChdL2"
      },
      "execution_count": 21,
      "outputs": []
    },
    {
      "cell_type": "code",
      "source": [
        "def place_trade(ticker, qty, action=\"buy\"):\n",
        "    try:\n",
        "        if action == \"buy\":\n",
        "            api.submit_order(\n",
        "                symbol=ticker,\n",
        "                qty=qty,\n",
        "                side='buy',\n",
        "                type='market',\n",
        "                time_in_force='gtc'\n",
        "            )\n",
        "        elif action == \"sell\":\n",
        "            api.submit_order(\n",
        "                symbol=ticker,\n",
        "                qty=qty,\n",
        "                side='sell',\n",
        "                type='market',\n",
        "                time_in_force='gtc'\n",
        "            )\n",
        "        print(f\"{action.capitalize()} order placed for {qty} shares of {ticker}\")\n",
        "    except Exception as e:\n",
        "        print(f\"Error placing order: {e}\")\n",
        "\n",
        "# Example: Automatically buy 10 shares of Apple (AAPL)\n",
        "place_trade('AAPL', 10, 'buy')\n",
        "\n",
        "# Example: Automatically sell 5 shares of Apple (AAPL)\n",
        "place_trade('AAPL', 5, 'sell')\n"
      ],
      "metadata": {
        "colab": {
          "base_uri": "https://localhost:8080/"
        },
        "id": "PbuLhZXaivnV",
        "outputId": "401509a3-d70a-4858-f3f1-7d4956d4a618"
      },
      "execution_count": 22,
      "outputs": [
        {
          "output_type": "stream",
          "name": "stdout",
          "text": [
            "Error placing order: forbidden.\n",
            "Error placing order: forbidden.\n"
          ]
        }
      ]
    },
    {
      "cell_type": "code",
      "source": [
        "# Real-time stock analysis and automatic trading loop\n",
        "def real_time_stock_analyzer(ticker, time_step=60):\n",
        "    try:\n",
        "        # Fetch historical data for training (can be done once at the start)\n",
        "        historical_data = yf.download(ticker, start=\"2010-01-01\", end=\"2023-01-01\")\n",
        "        X_train, y_train, scaler = prepare_data(historical_data)\n",
        "        model = build_lstm_model(X_train)\n",
        "\n",
        "        if model is None:\n",
        "            print(\"Model creation failed. Exiting.\")\n",
        "            return\n",
        "\n",
        "        # Train the model\n",
        "        model.fit(X_train, y_train, epochs=10, batch_size=32)\n",
        "\n",
        "        while True:\n",
        "            # Fetch real-time stock data\n",
        "            stock_data = get_realtime_data(ticker)\n",
        "            if stock_data is None:\n",
        "                continue\n",
        "\n",
        "            # Predict next price using the LSTM model\n",
        "            next_price = predict_next_price(stock_data, model, scaler, time_step)\n",
        "\n",
        "            if next_price is None:\n",
        "                print(\"Error predicting next price. Skipping iteration.\")\n",
        "                time.sleep(10)\n",
        "                continue\n",
        "\n",
        "            # Get the current price from the real-time data\n",
        "            current_price = stock_data['Close'].iloc[-1]\n",
        "\n",
        "            print(f\"Current Price: {current_price}, Predicted Next Price: {next_price}\")\n",
        "\n",
        "            # Make a decision to buy or sell based on the prediction\n",
        "            if next_price > current_price:\n",
        "                print(\"Prediction: Buy\")\n",
        "                place_trade(ticker, 10, 'buy')\n",
        "            elif next_price < current_price:\n",
        "                print(\"Prediction: Sell\")\n",
        "                place_trade(ticker, 10, 'sell')\n",
        "            else:\n",
        "                print(\"Prediction: No action taken\")\n",
        "\n",
        "            time.sleep(10)  # Wait for 1 minute before checking again\n",
        "    except Exception as e:\n",
        "        print(f\"Error in real-time stock analyzer loop: {e}\")\n",
        "\n",
        "# Run the real-time stock analyzer for Apple stock\n",
        "real_time_stock_analyzer('AAPL')"
      ],
      "metadata": {
        "colab": {
          "base_uri": "https://localhost:8080/"
        },
        "id": "amGnbncmtkGO",
        "outputId": "66282344-a965-4790-e33b-113dd2f15d57"
      },
      "execution_count": 28,
      "outputs": [
        {
          "output_type": "stream",
          "name": "stderr",
          "text": [
            "\r[*********************100%***********************]  1 of 1 completed"
          ]
        },
        {
          "output_type": "stream",
          "name": "stdout",
          "text": [
            "Error in real-time stock analyzer loop: name 'prepare_data' is not defined\n"
          ]
        },
        {
          "output_type": "stream",
          "name": "stderr",
          "text": [
            "\n"
          ]
        }
      ]
    }
  ]
}